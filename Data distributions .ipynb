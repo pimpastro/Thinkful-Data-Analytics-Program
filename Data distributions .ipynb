{
 "cells": [
  {
   "cell_type": "code",
   "execution_count": 2,
   "metadata": {},
   "outputs": [],
   "source": [
    "###Normal\n",
    "import numpy as np\n",
    "import pandas as pd\n",
    "import matplotlib.pyplot as plt\n",
    "%matplotlib inline"
   ]
  },
  {
   "cell_type": "markdown",
   "metadata": {},
   "source": [
    "Generate a random variable with 100 datapoints using the code distributionvar = np.random.distributionname([arguments], 100), replacing distributionvar with an appropriate variable name and distributionname with the name of the distribution you’ve chosen, and filling in the empty space in the parentheses with your chosen values for the appropriate parameters. If you feel uncertain about how to do this, go back to the “Other Distributions” assignment for examples of code to use as a starting point.\n"
   ]
  },
  {
   "cell_type": "code",
   "execution_count": 7,
   "metadata": {},
   "outputs": [
    {
     "data": {
      "image/png": "[encoded data removed]",
      "text/plain": [
       "<Figure size 432x288 with 1 Axes>"
      ]
     },
     "metadata": {
      "needs_background": "light"
     },
     "output_type": "display_data"
    }
   ],
   "source": [
    "# Generate a normal distribution with p =0.5.\n",
    "#Draw random samples from a normal (Gaussian) distribution.\n",
    "normal_distribution= np.random.normal(loc=0.0, scale=1.0, size=100)\n",
    "\n",
    "#Plot a histogram. It's not just copy-past, I really like this color\n",
    "plt.hist(normal_distribution, bins=20, color='c')\n",
    "\n",
    "\n",
    "# Add a vertical line at the mean.\n",
    "plt.axvline(normal_distribution.mean(), color='b', linestyle='solid', linewidth=2)\n",
    "\n",
    "# Add a vertical line at one standard deviation above the mean.\n",
    "plt.axvline(normal_distribution.mean() + normal_distribution.std(), color='b', linestyle='dashed', linewidth=2)\n",
    "\n",
    "# Add a vertical line at one standard deviation below the mean.\n",
    "plt.axvline(normal_distribution.mean()-normal_distribution.std(), color='b', linestyle='dashed', linewidth=2) \n",
    "\n",
    "# Print the histogram.\n",
    "plt.show()"
   ]
  },
  {
   "cell_type": "markdown",
   "metadata": {},
   "source": [
    "Need help with: Evaluate the descriptive statistics against the data.\n",
    "    How I can evaluate it if data are random and change every run?"
   ]
  },
  {
   "cell_type": "code",
   "execution_count": 22,
   "metadata": {},
   "outputs": [
    {
     "data": {
      "image/png": "[encoded data removed]",
      "text/plain": [
       "<Figure size 432x288 with 1 Axes>"
      ]
     },
     "metadata": {
      "needs_background": "light"
     },
     "output_type": "display_data"
    }
   ],
   "source": [
    "# Making a two standard normally distributed variables \n",
    "\n",
    "variable1 = np.random.normal(5, 0.5, 100)\n",
    "variable2 = np.random.normal(10, 1, 100)\n",
    "\n",
    "\n",
    "variable3 = variable1 + variable2\n",
    "\n",
    "mean = np.mean(variable3)\n",
    "sd = np.std(variable3)\n",
    "\n",
    "\n",
    "# Plotting the variables in the data frame (here, just the variable \"rand\") as a histogram.\n",
    "plt.hist(variable1)\n",
    "plt.hist(variable2)\n",
    "plt.hist(variable3)\n",
    "\n",
    "plt.axvline(x=mean, color='b', linestyle='solid', linewidth=2)\n",
    "plt.axvline(x=mean+sd, color='b', linestyle='dashed', linewidth=2)\n",
    "plt.axvline(x=mean-sd, color='b', linestyle='dashed', linewidth=2) \n",
    "\n",
    "plt.show()"
   ]
  },
  {
   "cell_type": "code",
   "execution_count": null,
   "metadata": {},
   "outputs": [],
   "source": []
  },
  {
   "cell_type": "code",
   "execution_count": null,
   "metadata": {},
   "outputs": [],
   "source": []
  }
 ],
 "metadata": {
  "kernelspec": {
   "display_name": "Python 3",
   "language": "python",
   "name": "python3"
  },
  "language_info": {
   "codemirror_mode": {
    "name": "ipython",
    "version": 3
   },
   "file_extension": ".py",
   "mimetype": "text/x-python",
   "name": "python",
   "nbconvert_exporter": "python",
   "pygments_lexer": "ipython3",
   "version": "3.7.3"
  }
 },
 "nbformat": 4,
 "nbformat_minor": 2
}
