{
 "cells": [
  {
   "cell_type": "code",
   "execution_count": 1,
   "metadata": {},
   "outputs": [],
   "source": [
    "import numpy as np\n",
    "import pandas as pd\n",
    "import scipy\n",
    "import matplotlib.pyplot as plt\n",
    "from scipy.stats import ttest_ind, mannwhitneyu \n",
    "import seaborn as sns \n",
    "from mpl_toolkits.mplot3d import Axes3D\n",
    "import scipy.stats as stats\n",
    "from scipy.stats.mstats import winsorize\n",
    "from sqlalchemy import create_engine\n",
    "%matplotlib inline"
   ]
  },
  {
   "cell_type": "code",
   "execution_count": 3,
   "metadata": {},
   "outputs": [
    {
     "data": {
      "text/html": [
       "<div>\n",
       "<style scoped>\n",
       "    .dataframe tbody tr th:only-of-type {\n",
       "        vertical-align: middle;\n",
       "    }\n",
       "\n",
       "    .dataframe tbody tr th {\n",
       "        vertical-align: top;\n",
       "    }\n",
       "\n",
       "    .dataframe thead th {\n",
       "        text-align: right;\n",
       "    }\n",
       "</style>\n",
       "<table border=\"1\" class=\"dataframe\">\n",
       "  <thead>\n",
       "    <tr style=\"text-align: right;\">\n",
       "      <th></th>\n",
       "      <th>PRIMARY_KEY</th>\n",
       "      <th>STATE</th>\n",
       "      <th>YEAR</th>\n",
       "      <th>ENROLL</th>\n",
       "      <th>TOTAL_REVENUE</th>\n",
       "      <th>FEDERAL_REVENUE</th>\n",
       "      <th>STATE_REVENUE</th>\n",
       "      <th>LOCAL_REVENUE</th>\n",
       "      <th>TOTAL_EXPENDITURE</th>\n",
       "      <th>INSTRUCTION_EXPENDITURE</th>\n",
       "      <th>...</th>\n",
       "      <th>GRADES_4_G</th>\n",
       "      <th>GRADES_8_G</th>\n",
       "      <th>GRADES_12_G</th>\n",
       "      <th>GRADES_1_8_G</th>\n",
       "      <th>GRADES_9_12_G</th>\n",
       "      <th>GRADES_ALL_G</th>\n",
       "      <th>AVG_MATH_4_SCORE</th>\n",
       "      <th>AVG_MATH_8_SCORE</th>\n",
       "      <th>AVG_READING_4_SCORE</th>\n",
       "      <th>AVG_READING_8_SCORE</th>\n",
       "    </tr>\n",
       "  </thead>\n",
       "  <tbody>\n",
       "    <tr>\n",
       "      <th>0</th>\n",
       "      <td>1992_ALABAMA</td>\n",
       "      <td>ALABAMA</td>\n",
       "      <td>1992</td>\n",
       "      <td>NaN</td>\n",
       "      <td>2678885.0</td>\n",
       "      <td>304177.0</td>\n",
       "      <td>1659028.0</td>\n",
       "      <td>715680.0</td>\n",
       "      <td>2653798.0</td>\n",
       "      <td>1481703.0</td>\n",
       "      <td>...</td>\n",
       "      <td>57948.0</td>\n",
       "      <td>58025.0</td>\n",
       "      <td>41167.0</td>\n",
       "      <td>471564.0</td>\n",
       "      <td>196386.0</td>\n",
       "      <td>676174.0</td>\n",
       "      <td>208.327876</td>\n",
       "      <td>252.187522</td>\n",
       "      <td>207.963517</td>\n",
       "      <td>NaN</td>\n",
       "    </tr>\n",
       "    <tr>\n",
       "      <th>1</th>\n",
       "      <td>1992_ALASKA</td>\n",
       "      <td>ALASKA</td>\n",
       "      <td>1992</td>\n",
       "      <td>NaN</td>\n",
       "      <td>1049591.0</td>\n",
       "      <td>106780.0</td>\n",
       "      <td>720711.0</td>\n",
       "      <td>222100.0</td>\n",
       "      <td>972488.0</td>\n",
       "      <td>498362.0</td>\n",
       "      <td>...</td>\n",
       "      <td>9748.0</td>\n",
       "      <td>8789.0</td>\n",
       "      <td>6714.0</td>\n",
       "      <td>79117.0</td>\n",
       "      <td>30847.0</td>\n",
       "      <td>112335.0</td>\n",
       "      <td>NaN</td>\n",
       "      <td>NaN</td>\n",
       "      <td>NaN</td>\n",
       "      <td>258.859712</td>\n",
       "    </tr>\n",
       "  </tbody>\n",
       "</table>\n",
       "<p>2 rows × 25 columns</p>\n",
       "</div>"
      ],
      "text/plain": [
       "    PRIMARY_KEY    STATE  YEAR  ENROLL  TOTAL_REVENUE  FEDERAL_REVENUE  \\\n",
       "0  1992_ALABAMA  ALABAMA  1992     NaN      2678885.0         304177.0   \n",
       "1   1992_ALASKA   ALASKA  1992     NaN      1049591.0         106780.0   \n",
       "\n",
       "   STATE_REVENUE  LOCAL_REVENUE  TOTAL_EXPENDITURE  INSTRUCTION_EXPENDITURE  \\\n",
       "0      1659028.0       715680.0          2653798.0                1481703.0   \n",
       "1       720711.0       222100.0           972488.0                 498362.0   \n",
       "\n",
       "   ...  GRADES_4_G  GRADES_8_G  GRADES_12_G  GRADES_1_8_G  GRADES_9_12_G  \\\n",
       "0  ...     57948.0     58025.0      41167.0      471564.0       196386.0   \n",
       "1  ...      9748.0      8789.0       6714.0       79117.0        30847.0   \n",
       "\n",
       "   GRADES_ALL_G  AVG_MATH_4_SCORE  AVG_MATH_8_SCORE  AVG_READING_4_SCORE  \\\n",
       "0      676174.0        208.327876        252.187522           207.963517   \n",
       "1      112335.0               NaN               NaN                  NaN   \n",
       "\n",
       "   AVG_READING_8_SCORE  \n",
       "0                  NaN  \n",
       "1           258.859712  \n",
       "\n",
       "[2 rows x 25 columns]"
      ]
     },
     "execution_count": 3,
     "metadata": {},
     "output_type": "execute_result"
    }
   ],
   "source": [
    "df = pd.read_csv('Desktop/Thinkful/states_all.csv')\n",
    "df.head(2)"
   ]
  },
  {
   "cell_type": "code",
   "execution_count": 7,
   "metadata": {},
   "outputs": [
    {
     "name": "stdout",
     "output_type": "stream",
     "text": [
      "<class 'pandas.core.frame.DataFrame'>\n",
      "RangeIndex: 1492 entries, 0 to 1491\n",
      "Data columns (total 26 columns):\n",
      "PRIMARY_KEY                     1492 non-null object\n",
      "STATE                           1492 non-null object\n",
      "YEAR                            1492 non-null int64\n",
      "ENROLL                          1492 non-null float64\n",
      "TOTAL_REVENUE                   1492 non-null float64\n",
      "FEDERAL_REVENUE                 1492 non-null float64\n",
      "STATE_REVENUE                   1492 non-null float64\n",
      "LOCAL_REVENUE                   1492 non-null float64\n",
      "TOTAL_EXPENDITURE               1492 non-null float64\n",
      "INSTRUCTION_EXPENDITURE         1492 non-null float64\n",
      "SUPPORT_SERVICES_EXPENDITURE    1492 non-null float64\n",
      "OTHER_EXPENDITURE               1492 non-null float64\n",
      "CAPITAL_OUTLAY_EXPENDITURE      1492 non-null float64\n",
      "GRADES_PK_G                     1492 non-null float64\n",
      "GRADES_KG_G                     1492 non-null float64\n",
      "GRADES_4_G                      1492 non-null float64\n",
      "GRADES_8_G                      1492 non-null float64\n",
      "GRADES_12_G                     1492 non-null float64\n",
      "GRADES_1_8_G                    1492 non-null float64\n",
      "GRADES_9_12_G                   1492 non-null float64\n",
      "GRADES_ALL_G                    1492 non-null float64\n",
      "AVG_MATH_4_SCORE                536 non-null float64\n",
      "AVG_MATH_8_SCORE                532 non-null float64\n",
      "AVG_READING_4_SCORE             533 non-null float64\n",
      "AVG_READING_8_SCORE             498 non-null float64\n",
      "score                           474 non-null float64\n",
      "dtypes: float64(23), int64(1), object(2)\n",
      "memory usage: 303.1+ KB\n"
     ]
    }
   ],
   "source": [
    "df.info()"
   ]
  },
  {
   "cell_type": "code",
   "execution_count": 4,
   "metadata": {},
   "outputs": [],
   "source": [
    "# Create a list of all columns we want to work on.\n",
    "fill_list = [\"ENROLL\", \"TOTAL_REVENUE\", \"FEDERAL_REVENUE\", \n",
    "             \"STATE_REVENUE\", \"LOCAL_REVENUE\", \"TOTAL_EXPENDITURE\", \n",
    "             \"INSTRUCTION_EXPENDITURE\", \"SUPPORT_SERVICES_EXPENDITURE\",\n",
    "             \"OTHER_EXPENDITURE\", \"CAPITAL_OUTLAY_EXPENDITURE\", \"GRADES_PK_G\", \n",
    "             \"GRADES_KG_G\", \"GRADES_4_G\", \"GRADES_8_G\", \"GRADES_12_G\", \"GRADES_1_8_G\", \n",
    "             \"GRADES_9_12_G\", \"GRADES_ALL_G\"]\n",
    "# Fill in all missing values from the column with the average of the same column\n",
    "states = df[\"STATE\"].unique()\n",
    "\n",
    "for col in fill_list:\n",
    "    for state in states: \n",
    "        if len(df.loc[df[\"STATE\"] == state][col].unique())==1: \n",
    "            #col value is all null for that year, then fill it with 0 \n",
    "            df.loc[df[\"STATE\"] == state,  col]= df.loc[df[\"STATE\"] == state,  col].fillna(0)\n",
    "        else: \n",
    "            df.loc[df[\"STATE\"] == state,  col] = df.loc[df[\"STATE\"] == state, col].fillna(df[(df[\"STATE\"] == state) & (df[col].isnull()==False) ][col].mean())"
   ]
  },
  {
   "cell_type": "markdown",
   "metadata": {},
   "source": [
    "Say, we want to understand the relationship between the expenditures of the governments and the students' overall success in the math and reading."
   ]
  },
  {
   "cell_type": "markdown",
   "metadata": {},
   "source": [
    "## 1. Create a new score variable from the weighted averages of all score variables in the datasets. Notice that the number of students in the 4th grade isn't the same as the number of students in the 8th grade. So, you should appropriately weigh the scores!.\n"
   ]
  },
  {
   "cell_type": "code",
   "execution_count": 5,
   "metadata": {},
   "outputs": [],
   "source": [
    "df[\"score\"] = (df[\"GRADES_4_G\"]*((df[\"AVG_MATH_4_SCORE\"] + df[\"AVG_READING_4_SCORE\"])*0.5) + df[\"GRADES_8_G\"]\n",
    "                                 * ((df[\"AVG_MATH_8_SCORE\"] + df[\"AVG_READING_8_SCORE\"])*0.5))/(df[\"GRADES_4_G\"] + df[\"GRADES_8_G\"])"
   ]
  },
  {
   "cell_type": "markdown",
   "metadata": {},
   "source": [
    "\n",
    "We weighted the score variables using the number of students in the respective grades."
   ]
  },
  {
   "cell_type": "markdown",
   "metadata": {},
   "source": [
    "## 2. What are the correlations between this newly created score variable and the expenditure types? Which 1 of the expenditure types is more correlated than the others?\n"
   ]
  },
  {
   "cell_type": "code",
   "execution_count": 11,
   "metadata": {},
   "outputs": [
    {
     "data": {
      "text/html": [
       "<div>\n",
       "<style scoped>\n",
       "    .dataframe tbody tr th:only-of-type {\n",
       "        vertical-align: middle;\n",
       "    }\n",
       "\n",
       "    .dataframe tbody tr th {\n",
       "        vertical-align: top;\n",
       "    }\n",
       "\n",
       "    .dataframe thead th {\n",
       "        text-align: right;\n",
       "    }\n",
       "</style>\n",
       "<table border=\"1\" class=\"dataframe\">\n",
       "  <thead>\n",
       "    <tr style=\"text-align: right;\">\n",
       "      <th></th>\n",
       "      <th>score</th>\n",
       "      <th>TOTAL_EXPENDITURE</th>\n",
       "      <th>INSTRUCTION_EXPENDITURE</th>\n",
       "      <th>SUPPORT_SERVICES_EXPENDITURE</th>\n",
       "      <th>OTHER_EXPENDITURE</th>\n",
       "      <th>CAPITAL_OUTLAY_EXPENDITURE</th>\n",
       "    </tr>\n",
       "  </thead>\n",
       "  <tbody>\n",
       "    <tr>\n",
       "      <th>score</th>\n",
       "      <td>1.000000</td>\n",
       "      <td>0.082445</td>\n",
       "      <td>0.095358</td>\n",
       "      <td>0.087077</td>\n",
       "      <td>0.008600</td>\n",
       "      <td>0.005121</td>\n",
       "    </tr>\n",
       "    <tr>\n",
       "      <th>TOTAL_EXPENDITURE</th>\n",
       "      <td>0.082445</td>\n",
       "      <td>1.000000</td>\n",
       "      <td>0.991905</td>\n",
       "      <td>0.993717</td>\n",
       "      <td>0.942618</td>\n",
       "      <td>0.936786</td>\n",
       "    </tr>\n",
       "    <tr>\n",
       "      <th>INSTRUCTION_EXPENDITURE</th>\n",
       "      <td>0.095358</td>\n",
       "      <td>0.991905</td>\n",
       "      <td>1.000000</td>\n",
       "      <td>0.978307</td>\n",
       "      <td>0.908899</td>\n",
       "      <td>0.902719</td>\n",
       "    </tr>\n",
       "    <tr>\n",
       "      <th>SUPPORT_SERVICES_EXPENDITURE</th>\n",
       "      <td>0.087077</td>\n",
       "      <td>0.993717</td>\n",
       "      <td>0.978307</td>\n",
       "      <td>1.000000</td>\n",
       "      <td>0.949653</td>\n",
       "      <td>0.923064</td>\n",
       "    </tr>\n",
       "    <tr>\n",
       "      <th>OTHER_EXPENDITURE</th>\n",
       "      <td>0.008600</td>\n",
       "      <td>0.942618</td>\n",
       "      <td>0.908899</td>\n",
       "      <td>0.949653</td>\n",
       "      <td>1.000000</td>\n",
       "      <td>0.918804</td>\n",
       "    </tr>\n",
       "    <tr>\n",
       "      <th>CAPITAL_OUTLAY_EXPENDITURE</th>\n",
       "      <td>0.005121</td>\n",
       "      <td>0.936786</td>\n",
       "      <td>0.902719</td>\n",
       "      <td>0.923064</td>\n",
       "      <td>0.918804</td>\n",
       "      <td>1.000000</td>\n",
       "    </tr>\n",
       "  </tbody>\n",
       "</table>\n",
       "</div>"
      ],
      "text/plain": [
       "                                 score  TOTAL_EXPENDITURE  \\\n",
       "score                         1.000000           0.082445   \n",
       "TOTAL_EXPENDITURE             0.082445           1.000000   \n",
       "INSTRUCTION_EXPENDITURE       0.095358           0.991905   \n",
       "SUPPORT_SERVICES_EXPENDITURE  0.087077           0.993717   \n",
       "OTHER_EXPENDITURE             0.008600           0.942618   \n",
       "CAPITAL_OUTLAY_EXPENDITURE    0.005121           0.936786   \n",
       "\n",
       "                              INSTRUCTION_EXPENDITURE  \\\n",
       "score                                        0.095358   \n",
       "TOTAL_EXPENDITURE                            0.991905   \n",
       "INSTRUCTION_EXPENDITURE                      1.000000   \n",
       "SUPPORT_SERVICES_EXPENDITURE                 0.978307   \n",
       "OTHER_EXPENDITURE                            0.908899   \n",
       "CAPITAL_OUTLAY_EXPENDITURE                   0.902719   \n",
       "\n",
       "                              SUPPORT_SERVICES_EXPENDITURE  OTHER_EXPENDITURE  \\\n",
       "score                                             0.087077           0.008600   \n",
       "TOTAL_EXPENDITURE                                 0.993717           0.942618   \n",
       "INSTRUCTION_EXPENDITURE                           0.978307           0.908899   \n",
       "SUPPORT_SERVICES_EXPENDITURE                      1.000000           0.949653   \n",
       "OTHER_EXPENDITURE                                 0.949653           1.000000   \n",
       "CAPITAL_OUTLAY_EXPENDITURE                        0.923064           0.918804   \n",
       "\n",
       "                              CAPITAL_OUTLAY_EXPENDITURE  \n",
       "score                                           0.005121  \n",
       "TOTAL_EXPENDITURE                               0.936786  \n",
       "INSTRUCTION_EXPENDITURE                         0.902719  \n",
       "SUPPORT_SERVICES_EXPENDITURE                    0.923064  \n",
       "OTHER_EXPENDITURE                               0.918804  \n",
       "CAPITAL_OUTLAY_EXPENDITURE                      1.000000  "
      ]
     },
     "execution_count": 11,
     "metadata": {},
     "output_type": "execute_result"
    }
   ],
   "source": [
    "df[[\"score\", 'TOTAL_EXPENDITURE', 'INSTRUCTION_EXPENDITURE', 'SUPPORT_SERVICES_EXPENDITURE', 'OTHER_EXPENDITURE', 'CAPITAL_OUTLAY_EXPENDITURE']].corr()"
   ]
  },
  {
   "cell_type": "markdown",
   "metadata": {},
   "source": [
    "The most correlated variable is SUPPORT_SERVICES_EXPENDITURE"
   ]
  },
  {
   "cell_type": "markdown",
   "metadata": {},
   "source": [
    "## 3. Now, apply PCA to the 4 expenditure types. How much of the total variance is explained by the 1st component?\n"
   ]
  },
  {
   "cell_type": "code",
   "execution_count": 12,
   "metadata": {},
   "outputs": [],
   "source": [
    "from sklearn.decomposition import PCA\n",
    "from sklearn.preprocessing import StandardScaler"
   ]
  },
  {
   "cell_type": "code",
   "execution_count": 16,
   "metadata": {},
   "outputs": [
    {
     "name": "stdout",
     "output_type": "stream",
     "text": [
      "The percentage of total variance in the dataset explained by each component from Sklearn PCA.\n",
      " [0.94778051]\n"
     ]
    }
   ],
   "source": [
    "X = df[[\"INSTRUCTION_EXPENDITURE\", \"SUPPORT_SERVICES_EXPENDITURE\",\n",
    "                  \"OTHER_EXPENDITURE\", \"CAPITAL_OUTLAY_EXPENDITURE\"]]\n",
    "\n",
    "X = StandardScaler().fit_transform(X)\n",
    "sklearn_pca = PCA(n_components=1)\n",
    "df[\"pca_1\"] = sklearn_pca.fit_transform(X)\n",
    "print(\n",
    "    'The percentage of total variance in the dataset explained by each',\n",
    "    'component from Sklearn PCA.\\n',\n",
    "    sklearn_pca.explained_variance_ratio_\n",
    ")"
   ]
  },
  {
   "cell_type": "markdown",
   "metadata": {},
   "source": [
    "More than 94% of the total variance is explained by the first principal component."
   ]
  },
  {
   "cell_type": "markdown",
   "metadata": {},
   "source": [
    "## 4. What is the correlation between the overall score variable and the 1st principal component?\n"
   ]
  },
  {
   "cell_type": "code",
   "execution_count": 18,
   "metadata": {},
   "outputs": [
    {
     "data": {
      "text/html": [
       "<div>\n",
       "<style scoped>\n",
       "    .dataframe tbody tr th:only-of-type {\n",
       "        vertical-align: middle;\n",
       "    }\n",
       "\n",
       "    .dataframe tbody tr th {\n",
       "        vertical-align: top;\n",
       "    }\n",
       "\n",
       "    .dataframe thead th {\n",
       "        text-align: right;\n",
       "    }\n",
       "</style>\n",
       "<table border=\"1\" class=\"dataframe\">\n",
       "  <thead>\n",
       "    <tr style=\"text-align: right;\">\n",
       "      <th></th>\n",
       "      <th>score</th>\n",
       "      <th>pca_1</th>\n",
       "    </tr>\n",
       "  </thead>\n",
       "  <tbody>\n",
       "    <tr>\n",
       "      <th>score</th>\n",
       "      <td>1.000000</td>\n",
       "      <td>0.050642</td>\n",
       "    </tr>\n",
       "    <tr>\n",
       "      <th>pca_1</th>\n",
       "      <td>0.050642</td>\n",
       "      <td>1.000000</td>\n",
       "    </tr>\n",
       "  </tbody>\n",
       "</table>\n",
       "</div>"
      ],
      "text/plain": [
       "          score     pca_1\n",
       "score  1.000000  0.050642\n",
       "pca_1  0.050642  1.000000"
      ]
     },
     "execution_count": 18,
     "metadata": {},
     "output_type": "execute_result"
    }
   ],
   "source": [
    "df[['score', \"pca_1\"]].corr()"
   ]
  },
  {
   "cell_type": "markdown",
   "metadata": {},
   "source": [
    "## 5. If you were to choose the best variables for your model, would you prefer using the 1st principal component instead of the expenditure variables? Why?"
   ]
  },
  {
   "cell_type": "code",
   "execution_count": 19,
   "metadata": {},
   "outputs": [
    {
     "data": {
      "text/html": [
       "<div>\n",
       "<style scoped>\n",
       "    .dataframe tbody tr th:only-of-type {\n",
       "        vertical-align: middle;\n",
       "    }\n",
       "\n",
       "    .dataframe tbody tr th {\n",
       "        vertical-align: top;\n",
       "    }\n",
       "\n",
       "    .dataframe thead th {\n",
       "        text-align: right;\n",
       "    }\n",
       "</style>\n",
       "<table border=\"1\" class=\"dataframe\">\n",
       "  <thead>\n",
       "    <tr style=\"text-align: right;\">\n",
       "      <th></th>\n",
       "      <th>score</th>\n",
       "      <th>pca_1</th>\n",
       "      <th>INSTRUCTION_EXPENDITURE</th>\n",
       "      <th>SUPPORT_SERVICES_EXPENDITURE</th>\n",
       "      <th>OTHER_EXPENDITURE</th>\n",
       "      <th>CAPITAL_OUTLAY_EXPENDITURE</th>\n",
       "    </tr>\n",
       "  </thead>\n",
       "  <tbody>\n",
       "    <tr>\n",
       "      <th>score</th>\n",
       "      <td>1.000000</td>\n",
       "      <td>0.050642</td>\n",
       "      <td>0.095358</td>\n",
       "      <td>0.087077</td>\n",
       "      <td>0.008600</td>\n",
       "      <td>0.005121</td>\n",
       "    </tr>\n",
       "    <tr>\n",
       "      <th>pca_1</th>\n",
       "      <td>0.050642</td>\n",
       "      <td>1.000000</td>\n",
       "      <td>0.973487</td>\n",
       "      <td>0.989163</td>\n",
       "      <td>0.970006</td>\n",
       "      <td>0.961295</td>\n",
       "    </tr>\n",
       "    <tr>\n",
       "      <th>INSTRUCTION_EXPENDITURE</th>\n",
       "      <td>0.095358</td>\n",
       "      <td>0.973487</td>\n",
       "      <td>1.000000</td>\n",
       "      <td>0.978307</td>\n",
       "      <td>0.908899</td>\n",
       "      <td>0.902719</td>\n",
       "    </tr>\n",
       "    <tr>\n",
       "      <th>SUPPORT_SERVICES_EXPENDITURE</th>\n",
       "      <td>0.087077</td>\n",
       "      <td>0.989163</td>\n",
       "      <td>0.978307</td>\n",
       "      <td>1.000000</td>\n",
       "      <td>0.949653</td>\n",
       "      <td>0.923064</td>\n",
       "    </tr>\n",
       "    <tr>\n",
       "      <th>OTHER_EXPENDITURE</th>\n",
       "      <td>0.008600</td>\n",
       "      <td>0.970006</td>\n",
       "      <td>0.908899</td>\n",
       "      <td>0.949653</td>\n",
       "      <td>1.000000</td>\n",
       "      <td>0.918804</td>\n",
       "    </tr>\n",
       "    <tr>\n",
       "      <th>CAPITAL_OUTLAY_EXPENDITURE</th>\n",
       "      <td>0.005121</td>\n",
       "      <td>0.961295</td>\n",
       "      <td>0.902719</td>\n",
       "      <td>0.923064</td>\n",
       "      <td>0.918804</td>\n",
       "      <td>1.000000</td>\n",
       "    </tr>\n",
       "  </tbody>\n",
       "</table>\n",
       "</div>"
      ],
      "text/plain": [
       "                                 score     pca_1  INSTRUCTION_EXPENDITURE  \\\n",
       "score                         1.000000  0.050642                 0.095358   \n",
       "pca_1                         0.050642  1.000000                 0.973487   \n",
       "INSTRUCTION_EXPENDITURE       0.095358  0.973487                 1.000000   \n",
       "SUPPORT_SERVICES_EXPENDITURE  0.087077  0.989163                 0.978307   \n",
       "OTHER_EXPENDITURE             0.008600  0.970006                 0.908899   \n",
       "CAPITAL_OUTLAY_EXPENDITURE    0.005121  0.961295                 0.902719   \n",
       "\n",
       "                              SUPPORT_SERVICES_EXPENDITURE  OTHER_EXPENDITURE  \\\n",
       "score                                             0.087077           0.008600   \n",
       "pca_1                                             0.989163           0.970006   \n",
       "INSTRUCTION_EXPENDITURE                           0.978307           0.908899   \n",
       "SUPPORT_SERVICES_EXPENDITURE                      1.000000           0.949653   \n",
       "OTHER_EXPENDITURE                                 0.949653           1.000000   \n",
       "CAPITAL_OUTLAY_EXPENDITURE                        0.923064           0.918804   \n",
       "\n",
       "                              CAPITAL_OUTLAY_EXPENDITURE  \n",
       "score                                           0.005121  \n",
       "pca_1                                           0.961295  \n",
       "INSTRUCTION_EXPENDITURE                         0.902719  \n",
       "SUPPORT_SERVICES_EXPENDITURE                    0.923064  \n",
       "OTHER_EXPENDITURE                               0.918804  \n",
       "CAPITAL_OUTLAY_EXPENDITURE                      1.000000  "
      ]
     },
     "execution_count": 19,
     "metadata": {},
     "output_type": "execute_result"
    }
   ],
   "source": [
    "df[['score', \"pca_1\", \"INSTRUCTION_EXPENDITURE\", \"SUPPORT_SERVICES_EXPENDITURE\",\n",
    "                  \"OTHER_EXPENDITURE\", \"CAPITAL_OUTLAY_EXPENDITURE\"]].corr()"
   ]
  },
  {
   "cell_type": "markdown",
   "metadata": {},
   "source": [
    "Instruction expenditure variable is more correlated with the overall score than the first principal component. Hence using instruction expenditure makes more sense. PCA works best when the correlation between the variables are less than and equal to 0.8. In our case, all of the expenditure variables are highly correlated with each other. This may result in instable principal component estimations."
   ]
  }
 ],
 "metadata": {},
 "nbformat": 4,
 "nbformat_minor": 2
}
