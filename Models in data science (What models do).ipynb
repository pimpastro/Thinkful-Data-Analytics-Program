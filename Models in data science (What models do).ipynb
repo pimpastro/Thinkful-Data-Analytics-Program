{
 "cells": [
  {
   "cell_type": "markdown",
   "metadata": {},
   "source": [
    "## 1. Try to model the result of a coin toss. In your model, include any features that you think important in explaining the result. Discuss with your mentor about the pros and cons of adding too many features into your model.\n"
   ]
  },
  {
   "cell_type": "markdown",
   "metadata": {},
   "source": [
    "let's think what can react on the result if we have a fair coin\n",
    "1. size of the coin\n",
    "2. weight of the coin\n",
    "3. the shape (if we have not flat shape on the edge)\n",
    "4. how far from the ground we toss\n",
    "5. how much we shake the coin before tossing"
   ]
  },
  {
   "cell_type": "markdown",
   "metadata": {},
   "source": [
    "## 2. If you ever used Netflix, you should already have realized that it provides some recommen- dations for you to watch. In data science, this is an example of the so-called recommen- dations systems. Read this nontechnical blog post of Netflix about how they model their recommendations systems. Then, derive the features they use in their recommendations engines and discuss what else can be incorporated into this model.\n"
   ]
  },
  {
   "cell_type": "markdown",
   "metadata": {},
   "source": [
    "They use the following features:\n",
    "1. your interactions with our service (such as your viewing history and how you rated other titles)\n",
    "2. the time of day you watch\n",
    "3. the devices you are watching Netflix on\n",
    "4. and how long you watch\n",
    "\n",
    "I would add the age and the gender and actors/actresses who are featuring in the movie"
   ]
  }
 ],
 "metadata": {
  "kernelspec": {
   "display_name": "Python 3",
   "language": "python",
   "name": "python3"
  },
  "language_info": {
   "codemirror_mode": {
    "name": "ipython",
    "version": 3
   },
   "file_extension": ".py",
   "mimetype": "text/x-python",
   "name": "python",
   "nbconvert_exporter": "python",
   "pygments_lexer": "ipython3",
   "version": "3.7.3"
  }
 },
 "nbformat": 4,
 "nbformat_minor": 2
}
