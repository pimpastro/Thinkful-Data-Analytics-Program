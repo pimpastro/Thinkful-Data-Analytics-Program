{
 "cells": [
  {
   "cell_type": "markdown",
   "metadata": {},
   "source": [
    "# Linked List"
   ]
  },
  {
   "cell_type": "markdown",
   "metadata": {},
   "source": [
    "In a _linked list_, we maintain order of our items but do not have an index. Instead, each entry is linked to the next item. Linked lists can be either singly or a doubly linked, depending on whether the links only point forward or whether they also point backwards.\n",
    "\n",
    "Python doesn't include an implementation of a linked list, so to use it you have to write it yourself. This is typically done using a Node class that stores the value of an item plus a pointer to the next node (and the previous node in a doubly linked list).\n",
    "\n",
    "Here's an implementation of linked lists in Python. This includes methods for common operations like appending, removing, and inserting nodes. Review the code and the comments thoroughly before moving on.\n",
    "\n"
   ]
  },
  {
   "cell_type": "code",
   "execution_count": 1,
   "metadata": {},
   "outputs": [
    {
     "name": "stdout",
     "output_type": "stream",
     "text": [
      "List Values:\n",
      "1\n",
      "2\n",
      "3\n",
      "4\n",
      "None\n",
      "List Values:\n",
      "1\n",
      "100\n",
      "4\n",
      "None\n"
     ]
    }
   ],
   "source": [
    "class Node(object):\n",
    " \n",
    "    def __init__(self, data, next=None):\n",
    "        self.data = data\n",
    "        self.next = next\n",
    " \n",
    " \n",
    "class LinkedList(object):\n",
    "    def __init__(self, head=None, tail=None):\n",
    "        self.head = None\n",
    "        self.tail = None\n",
    " \n",
    "    def print_list(self):\n",
    "        print(\"List Values:\")\n",
    "        # Start at the head.\n",
    "        current_node = self.head\n",
    "        # Iterate as long as current node is not None.\n",
    "        while current_node != None:\n",
    "            # Print the data of the node.\n",
    "            print(current_node.data)\n",
    "            # Move to next element.\n",
    "            current_node = current_node.next\n",
    "        print(None)\n",
    " \n",
    "    def append(self, data):\n",
    "        node = Node(data, None)\n",
    "        # Handle the empty case.\n",
    "        if self.head is None:\n",
    "            self.head = node\n",
    "            self.tail = node\n",
    "        else:\n",
    "            # Otherwise set a new next for the tail and set a new tail.\n",
    "            self.tail.next = node\n",
    "        self.tail = node\n",
    " \n",
    "    def remove(self, node_value):\n",
    "        # We're going to want to track a current and previous node.\n",
    "        current_node = self.head\n",
    "        previous_node = None\n",
    "        # Iterate through the list to find the value to remove.\n",
    "        while current_node != None:\n",
    "            if current_node.data == node_value:\n",
    "                if previous_node is not None:\n",
    "                    previous_node.next = current_node.next\n",
    "                else:\n",
    "                    # Handle edge case.\n",
    "                    self.head = current_node.next\n",
    " \n",
    "            # Keep track of previous nodes to repair list after removal.\n",
    "            previous_node = current_node\n",
    "            current_node = current_node.next\n",
    "    \n",
    "    # Note that insert is a permutation of remove. \n",
    "    def insert(self, value, at):\n",
    "        current_node = self.head\n",
    "        new_node = Node(value)\n",
    "        # Iterate to find our value to insert after.\n",
    "        while current_node != None:\n",
    "            if current_node.data == at:\n",
    "                if current_node is not None:\n",
    "                    new_node.next = current_node.next\n",
    "                    current_node.next = new_node \n",
    "                else:\n",
    "                    # Handle edge case.\n",
    "                    self.tail = current_node.next\n",
    " \n",
    "            # Move to the next one.\n",
    "            current_node = current_node.next\n",
    " \n",
    " \n",
    "# Run these tests, then try play with the LinkedList class and try your own.\n",
    "s = LinkedList()\n",
    "s.append(1)\n",
    "s.append(2)\n",
    "s.append(3)\n",
    "s.append(4)\n",
    "s.print_list()\n",
    "\n",
    "s.remove(3)\n",
    "s.remove(2)\n",
    "s.insert(100, at=1) \n",
    "\n",
    "s.print_list()\n",
    "\n"
   ]
  },
  {
   "cell_type": "markdown",
   "metadata": {},
   "source": [
    "# Queue"
   ]
  },
  {
   "cell_type": "markdown",
   "metadata": {},
   "source": [
    "There's a version of the linked list that is a bit more specialized and it's designed to solve exactly the queueing problem we started with. Unsurprisingly, it's called a queue.\n",
    "\n",
    "A queue is a single linked list, but with the special feature that items only come in at one end and leave at the other. This is exactly what we described as our FIFO queue. Then we think of entering the queue as \"enqueing\", where items get linked to the last element of the list. We can then only remove from the front of the line via a \"dequeing\" process."
   ]
  },
  {
   "cell_type": "markdown",
   "metadata": {},
   "source": [
    "# Stack"
   ]
  },
  {
   "cell_type": "code",
   "execution_count": null,
   "metadata": {},
   "outputs": [],
   "source": [
    "Lastly, you can make a stack. This could also be a LIFO queue. In this case it's a linked list where items are only added or removed from one end. This means to access an element further down the queue we'd have to first remove all preceding elements. Not ideal for many circumstances, but it does have its uses."
   ]
  },
  {
   "cell_type": "code",
   "execution_count": null,
   "metadata": {},
   "outputs": [],
   "source": [
    "https://runestone.academy/runestone/books/published/pythonds/index.html\n",
    "http://discrete.gr/complexity/"
   ]
  },
  {
   "cell_type": "markdown",
   "metadata": {},
   "source": [
    "# Sort in 60 minutes"
   ]
  },
  {
   "cell_type": "code",
   "execution_count": 2,
   "metadata": {},
   "outputs": [],
   "source": [
    "import time\n",
    "import random\n",
    "\n",
    "# Set seed.\n",
    "random.seed(a=100)\n",
    "\n",
    "# Create our default list.\n",
    "short_list = list(random.sample(range(1000000), 10))\n",
    "long_list = list(random.sample(range(1000000), 10000))"
   ]
  },
  {
   "cell_type": "markdown",
   "metadata": {},
   "source": [
    "## insertion sort"
   ]
  },
  {
   "cell_type": "code",
   "execution_count": 3,
   "metadata": {},
   "outputs": [],
   "source": [
    "def insert_sort(input_list):\n",
    "    # Copy the input to a new list so we don't modify the original.\n",
    "    new_list = input_list\n",
    "    \n",
    "    # Iterate through the list.\n",
    "    for i in range(len(new_list)):\n",
    "        # Assign place to a new variable.\n",
    "        j = i\n",
    "        \n",
    "        # Move through the list as long as the previous position is larger\n",
    "        # than the current element of list.\n",
    "        while j > 0 and new_list[j - 1] > new_list[j]:\n",
    "            \n",
    "            # Swap places.\n",
    "            new_list[j - 1], new_list[j] = new_list[j], new_list[j - 1]\n",
    "            \n",
    "            # Reduce j by one.\n",
    "            j = j - 1\n",
    "    return new_list"
   ]
  },
  {
   "cell_type": "code",
   "execution_count": 4,
   "metadata": {},
   "outputs": [
    {
     "name": "stdout",
     "output_type": "stream",
     "text": [
      "--- 0.0001430511474609375 seconds ---\n",
      "[152745, 183236, 366725, 412125, 477025, 481850, 739784, 767514, 808225, 997948]\n"
     ]
    }
   ],
   "source": [
    "# Start the timer.\n",
    "start_time = time.time()\n",
    "\n",
    "# Run our insertion sort.\n",
    "insert_sort(short_list)\n",
    "\n",
    "# Print time to show runtime.\n",
    "print(\"--- %s seconds ---\" % (time.time() - start_time))\n",
    "print(insert_sort(short_list))"
   ]
  },
  {
   "cell_type": "code",
   "execution_count": 5,
   "metadata": {},
   "outputs": [
    {
     "name": "stdout",
     "output_type": "stream",
     "text": [
      "--- 8.491711139678955 seconds ---\n"
     ]
    }
   ],
   "source": [
    "# Test on the long list.\n",
    "start_time = time.time()\n",
    "\n",
    "insert_sort(long_list)\n",
    "\n",
    "print(\"--- %s seconds ---\" % (time.time() - start_time))"
   ]
  },
  {
   "cell_type": "markdown",
   "metadata": {},
   "source": [
    "## merge sort"
   ]
  },
  {
   "cell_type": "code",
   "execution_count": 7,
   "metadata": {},
   "outputs": [],
   "source": [
    "# Our merge function takes two ordered lists and merges them together into one ordered list\n",
    "\n",
    "def merge(a, b):\n",
    "    # Check for empty list.\n",
    "    if len(a) == 0 or len(b) == 0:\n",
    "        return a or b\n",
    "    \n",
    "    # Start with an empty result.\n",
    "    result = []\n",
    "    # Track two indexes.\n",
    "    i, j = 0, 0\n",
    "    # Set a while condition to ensure we iterate only for the length of our two lists.\n",
    "    while (len(result) < len(a) + len(b)):\n",
    "        # If a's next element is lower append that element to our result.\n",
    "        if a[i] < b[j]:\n",
    "            result.append(a[i])\n",
    "            i += 1\n",
    "        # Otherwise append b's next element.\n",
    "        else:\n",
    "            result.append(b[j])\n",
    "            j += 1\n",
    "        # When one list is empty just append everything from the other list and stop.\n",
    "        if i == len(a) or j == len(b):\n",
    "            result.extend(a[i:] or b[j:])\n",
    "            break \n",
    "\n",
    "    return result\n",
    "\n",
    "def merge_sort(lst):\n",
    "    if len(lst) < 2:\n",
    "        return lst\n",
    "\n",
    "    mid = int(len(lst) / 2)\n",
    "    a = merge_sort(lst[:mid])\n",
    "    b = merge_sort(lst[mid:])\n",
    "\n",
    "    return merge(a, b)"
   ]
  },
  {
   "cell_type": "code",
   "execution_count": 8,
   "metadata": {},
   "outputs": [
    {
     "name": "stdout",
     "output_type": "stream",
     "text": [
      "--- 9.393692016601562e-05 seconds ---\n",
      "[152745, 183236, 366725, 412125, 477025, 481850, 739784, 767514, 808225, 997948]\n"
     ]
    }
   ],
   "source": [
    "# Test on short list.\n",
    "# Start timer.\n",
    "start_time = time.time()\n",
    "\n",
    "# Run our insertion sort.\n",
    "merge_sort(short_list)\n",
    "\n",
    "# Print time to show runtime.\n",
    "print(\"--- %s seconds ---\" % (time.time() - start_time))\n",
    "print(insert_sort(short_list))"
   ]
  },
  {
   "cell_type": "code",
   "execution_count": 9,
   "metadata": {},
   "outputs": [
    {
     "name": "stdout",
     "output_type": "stream",
     "text": [
      "--- 0.060378074645996094 seconds ---\n"
     ]
    }
   ],
   "source": [
    "# Test on long list.\n",
    "start_time = time.time()\n",
    "\n",
    "merge_sort(long_list)\n",
    "\n",
    "print(\"--- %s seconds ---\" % (time.time() - start_time))"
   ]
  },
  {
   "cell_type": "markdown",
   "metadata": {},
   "source": [
    "## The Default Sort Method"
   ]
  },
  {
   "cell_type": "markdown",
   "metadata": {},
   "source": [
    "Python lists have a built in .sort() method and there's also the built-in sorted() function. Let's see how that performs."
   ]
  },
  {
   "cell_type": "code",
   "execution_count": 10,
   "metadata": {},
   "outputs": [
    {
     "name": "stdout",
     "output_type": "stream",
     "text": [
      "--- 0.00036787986755371094 seconds ---\n"
     ]
    }
   ],
   "source": [
    "# Start Timer\n",
    "start_time = time.time()\n",
    "\n",
    "# Sort the default list. Note that .sort() will sort in place, which would alter default_list.\n",
    "sorted(long_list)\n",
    "\n",
    "# Print time to show runtime\n",
    "print(\"--- %s seconds ---\" % (time.time() - start_time))"
   ]
  },
  {
   "cell_type": "markdown",
   "metadata": {},
   "source": [
    "# DRILL:"
   ]
  },
  {
   "cell_type": "markdown",
   "metadata": {},
   "source": [
    "## Heap Sort"
   ]
  },
  {
   "cell_type": "code",
   "execution_count": null,
   "metadata": {},
   "outputs": [],
   "source": [
    "procedure heapsort(a, count) is\n",
    "    input: an unordered array a of length count\n",
    " \n",
    "    (Build the heap in array a so that largest value is at the root)\n",
    "    heapify(a, count)\n",
    "\n",
    "    (The following loop maintains the invariants that a[0:end] is a heap and every element\n",
    "     beyond end is greater than everything before it (so a[end:count] is in sorted order))\n",
    "    end ← count - 1\n",
    "    while end > 0 do\n",
    "        (a[0] is the root and largest value. The swap moves it in front of the sorted elements.)\n",
    "        swap(a[end], a[0])\n",
    "        (the heap size is reduced by one)\n",
    "        end ← end - 1\n",
    "        (the swap ruined the heap property, so restore it)\n",
    "        siftDown(a, 0, end)"
   ]
  },
  {
   "cell_type": "code",
   "execution_count": null,
   "metadata": {},
   "outputs": [],
   "source": [
    "procedure heapify(a,count) is\n",
    "     (end is assigned the index of the first (left) child of the root)\n",
    "     end := 1\n",
    "     \n",
    "     while end < count\n",
    "         (sift up the node at index end to the proper place such that all nodes above\n",
    "          the end index are in heap order)\n",
    "         siftUp(a, 0, end)\n",
    "         end := end + 1\n",
    "     (after sifting up the last node all nodes are in heap order)\n",
    " \n",
    " procedure siftUp(a, start, end) is\n",
    "     input:  start represents the limit of how far up the heap to sift.\n",
    "                   end is the node to sift up.\n",
    "     child := end \n",
    "     while child > start\n",
    "         parent := iParent(child)\n",
    "         if a[parent] < a[child] then (out of max-heap order)\n",
    "             swap(a[parent], a[child])\n",
    "             child := parent (repeat to continue sifting up the parent now)\n",
    "         else\n",
    "             return"
   ]
  },
  {
   "cell_type": "code",
   "execution_count": 13,
   "metadata": {},
   "outputs": [
    {
     "data": {
      "text/plain": [
       "[152745,\n",
       " 183236,\n",
       " 366725,\n",
       " 412125,\n",
       " 477025,\n",
       " 481850,\n",
       " 739784,\n",
       " 767514,\n",
       " 808225,\n",
       " 997948]"
      ]
     },
     "execution_count": 13,
     "metadata": {},
     "output_type": "execute_result"
    }
   ],
   "source": [
    "short_list"
   ]
  },
  {
   "cell_type": "code",
   "execution_count": 15,
   "metadata": {},
   "outputs": [
    {
     "name": "stdout",
     "output_type": "stream",
     "text": [
      "[152745, 183236, 366725, 412125, 477025, 481850, 739784, 767514, 808225, 997948]\n"
     ]
    }
   ],
   "source": [
    "def swap(i, j):                    \n",
    "    sqc[i], sqc[j] = sqc[j], sqc[i] \n",
    "\n",
    "def heapify(end,i):   \n",
    "    l=2 * i + 1  \n",
    "    r=2 * (i + 1)   \n",
    "    max=i   \n",
    "    if l < end and sqc[i] < sqc[l]:   \n",
    "        max = l   \n",
    "    if r < end and sqc[max] < sqc[r]:   \n",
    "        max = r   \n",
    "    if max != i:   \n",
    "        swap(i, max)   \n",
    "        heapify(end, max)   \n",
    "\n",
    "def heap_sort():     \n",
    "    end = len(sqc)   \n",
    "    start = end // 2 - 1 # use // instead of /\n",
    "    for i in range(start, -1, -1):   \n",
    "        heapify(end, i)   \n",
    "    for i in range(end-1, 0, -1):   \n",
    "        swap(i, 0)   \n",
    "        heapify(i, 0)   \n",
    "\n",
    "sqc = short_list\n",
    "heap_sort()\n",
    "print(sqc)"
   ]
  },
  {
   "cell_type": "code",
   "execution_count": 16,
   "metadata": {},
   "outputs": [
    {
     "name": "stdout",
     "output_type": "stream",
     "text": [
      "[152745, 183236, 366725, 412125, 477025, 481850, 739784, 767514, 808225, 997948]\n",
      "--- 0.0003039836883544922 seconds ---\n"
     ]
    }
   ],
   "source": [
    "# Start Timer\n",
    "start_time = time.time()\n",
    "sqc = short_list\n",
    "heap_sort()\n",
    "print(sqc)\n",
    "\n",
    "# Print time to show runtime\n",
    "print(\"--- %s seconds ---\" % (time.time() - start_time))"
   ]
  },
  {
   "cell_type": "markdown",
   "metadata": {},
   "source": [
    "## Selection Sort"
   ]
  },
  {
   "cell_type": "code",
   "execution_count": 17,
   "metadata": {},
   "outputs": [
    {
     "data": {
      "text/plain": [
       "[152745,\n",
       " 183236,\n",
       " 366725,\n",
       " 412125,\n",
       " 477025,\n",
       " 481850,\n",
       " 739784,\n",
       " 767514,\n",
       " 808225,\n",
       " 997948]"
      ]
     },
     "execution_count": 17,
     "metadata": {},
     "output_type": "execute_result"
    }
   ],
   "source": [
    "short_list"
   ]
  },
  {
   "cell_type": "code",
   "execution_count": 24,
   "metadata": {},
   "outputs": [
    {
     "name": "stdout",
     "output_type": "stream",
     "text": [
      "Sorted array\n",
      "152745\n",
      "183236\n",
      "366725\n",
      "412125\n",
      "477025\n",
      "481850\n",
      "739784\n",
      "767514\n",
      "808225\n",
      "997948\n",
      "--- 0.0008890628814697266 seconds ---\n"
     ]
    }
   ],
   "source": [
    "start_time = time.time()\n",
    "A = short_list\n",
    "# Traverse through all array elements \n",
    "for i in range(len(A)): \n",
    "      \n",
    "    # Find the minimum element in remaining  \n",
    "    # unsorted array \n",
    "    min_idx = i \n",
    "    for j in range(i+1, len(A)): \n",
    "        if A[min_idx] > A[j]: \n",
    "            min_idx = j \n",
    "              \n",
    "    # Swap the found minimum element with  \n",
    "    # the first element         \n",
    "    A[i], A[min_idx] = A[min_idx], A[i] \n",
    "  \n",
    "# Driver code to test above \n",
    "print (\"Sorted array\") \n",
    "for i in range(len(A)): \n",
    "    print(\"%d\" %A[i]),  \n",
    "# Print time to show runtime\n",
    "print(\"--- %s seconds ---\" % (time.time() - start_time))    "
   ]
  },
  {
   "cell_type": "markdown",
   "metadata": {},
   "source": [
    "# Trees"
   ]
  },
  {
   "cell_type": "code",
   "execution_count": 25,
   "metadata": {},
   "outputs": [],
   "source": [
    "class Node:\n",
    "    def __init__(self, val):\n",
    "        self.left = None\n",
    "        self.right = None\n",
    "        self.val = val"
   ]
  },
  {
   "cell_type": "markdown",
   "metadata": {},
   "source": [
    "What this has done is create the framework for nodes. A node will take a value, which gives us the value at that point. It also lets us establish a left and right value, the two children of this node. To create a binary tree, we simply populate those children with their own nodes."
   ]
  },
  {
   "cell_type": "markdown",
   "metadata": {},
   "source": [
    "So to reconstruct the tree from above we’d simply do this:"
   ]
  },
  {
   "cell_type": "code",
   "execution_count": 26,
   "metadata": {},
   "outputs": [],
   "source": [
    "# Establish the initial root node and choldren\n",
    "root = Node('A')\n",
    "root.left = Node('B')\n",
    "root.right = Node('C')\n",
    "\n",
    "# Add the appropriate children for 'B' and 'C'\n",
    "root.left.left = Node('D')\n",
    "root.left.right = Node('E')\n",
    "root.right.left = Node('F')\n",
    "root.right.right = Node('G')"
   ]
  },
  {
   "cell_type": "markdown",
   "metadata": {},
   "source": [
    "### Binary Heaps"
   ]
  },
  {
   "cell_type": "markdown",
   "metadata": {},
   "source": [
    "# DRILL:\n",
    "\n",
    "Implement a binary tree, which is filled with 15 pieces of random data. Your job is to then write a program to traverse the tree using a breadth first traversal. If you want additional practice, try other forms of traversal."
   ]
  },
  {
   "cell_type": "markdown",
   "metadata": {},
   "source": [
    "min_heapify(array, index). This method takes two arguments, array, and index. We assume this method exchange the node of array[index] with its child nodes to satisfy the heap property."
   ]
  },
  {
   "cell_type": "code",
   "execution_count": 46,
   "metadata": {},
   "outputs": [],
   "source": [
    "def min_heapify(array, i):\n",
    "    left = 2*i +1\n",
    "    right = 2*i +2\n",
    "    lenght = len(array)-1\n",
    "    smallest = i\n",
    "    \n",
    "    if left <= lenght and array[i] > array[left]:\n",
    "        smallest = left\n",
    "    if right <= lenght and array[smallest] > array[right]:\n",
    "        smallest = right\n",
    "    if smallest != i:\n",
    "        array[i], array[smallest] = array[smallest], array[i]\n",
    "        min_heapify(array, smallest)"
   ]
  },
  {
   "cell_type": "code",
   "execution_count": 48,
   "metadata": {},
   "outputs": [
    {
     "name": "stdout",
     "output_type": "stream",
     "text": [
      "None\n"
     ]
    }
   ],
   "source": [
    "print(min_heap([1,2,3,4,5], 0))"
   ]
  },
  {
   "cell_type": "code",
   "execution_count": 42,
   "metadata": {},
   "outputs": [],
   "source": [
    "def build_min_heap(array):\n",
    "    for i in reversed(range(len(array)//2)):\n",
    "        min_heapify(array, i)"
   ]
  },
  {
   "cell_type": "code",
   "execution_count": 43,
   "metadata": {},
   "outputs": [],
   "source": [
    "def heapsort(array):\n",
    "    array = array.copy()\n",
    "    #build_min_heap(array)\n",
    "    sorted_array = []\n",
    "    for _ in range(len(array)):\n",
    "        array[0], array[-1] = array[-1], array[0]\n",
    "        sorted_array.append(array.pop())\n",
    "        min_heapify(array, 0)\n",
    "    return sorted_array"
   ]
  },
  {
   "cell_type": "code",
   "execution_count": 45,
   "metadata": {},
   "outputs": [
    {
     "data": {
      "text/plain": [
       "[1, 2, 4, 5, 7]"
      ]
     },
     "execution_count": 45,
     "metadata": {},
     "output_type": "execute_result"
    }
   ],
   "source": [
    "heapsort([1,2,7,4,5])"
   ]
  },
  {
   "cell_type": "code",
   "execution_count": null,
   "metadata": {},
   "outputs": [],
   "source": []
  }
 ],
 "metadata": {
  "kernelspec": {
   "display_name": "Python 3",
   "language": "python",
   "name": "python3"
  },
  "language_info": {
   "codemirror_mode": {
    "name": "ipython",
    "version": 3
   },
   "file_extension": ".py",
   "mimetype": "text/x-python",
   "name": "python",
   "nbconvert_exporter": "python",
   "pygments_lexer": "ipython3",
   "version": "3.7.3"
  }
 },
 "nbformat": 4,
 "nbformat_minor": 2
}
